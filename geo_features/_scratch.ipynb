{
 "cells": [
  {
   "cell_type": "code",
   "execution_count": 9,
   "metadata": {},
   "outputs": [],
   "source": [
    "from coordinate_sequence import CoordinateSequence"
   ]
  },
  {
   "cell_type": "code",
   "execution_count": 10,
   "metadata": {},
   "outputs": [
    {
     "name": "stdout",
     "output_type": "stream",
     "text": [
      "# elements: 16\n",
      "point2d: 1.0 2.0\n",
      "point2d: 3.0 4.0\n"
     ]
    }
   ],
   "source": [
    "# how would a 2d point be represented (x, y)\n",
    "\n",
    "alias CoordSeq = CoordinateSequence[DType.float32, DimList(8, 2)]\n",
    "let coords = CoordSeq()\n",
    "coords.data.simd_store(0, SIMD[DType.float32, 16](1,2,3,4,5,6,7,8,9,10,11,12,13,14,15,16))\n",
    "print(\"# elements:\", coords.buffer.num_elements())\n",
    "\n",
    "# points represented in the coordinatee sequence as adjacent pairs:\n",
    "print(\"point2d:\", coords.buffer[0, 0], coords.buffer[0, 1])\n",
    "print(\"point2d:\", coords.buffer[1, 0], coords.buffer[1, 1])\n"
   ]
  },
  {
   "cell_type": "code",
   "execution_count": 11,
   "metadata": {},
   "outputs": [
    {
     "name": "stdout",
     "output_type": "stream",
     "text": [
      "# elements: 24\n",
      "point3d: 1.0 2.0 3.0\n",
      "point3d: 4.0 5.0 6.0\n"
     ]
    }
   ],
   "source": [
    "# how would a 3d point be represented (x, y, z), z = height\n",
    "\n",
    "alias CoordSeq = CoordinateSequence[ DType.float32, DimList(8, 3)]\n",
    "let coords = CoordSeq()\n",
    "coords.data.simd_store(0, SIMD[DType.float32, 16](1,2,3,4,5,6,7,8,9,10,11,12,13,14,15,16))\n",
    "print(\"# elements:\", coords.buffer.num_elements())\n",
    "\n",
    "# points represented in the coordinatee sequence as adjacent pairs:\n",
    "print(\"point3d:\", coords.buffer[0, 0], coords.buffer[0, 1], coords.buffer[0, 2])\n",
    "print(\"point3d:\", coords.buffer[1, 0], coords.buffer[1, 1], coords.buffer[1, 2])\n"
   ]
  },
  {
   "cell_type": "code",
   "execution_count": 12,
   "metadata": {},
   "outputs": [
    {
     "name": "stdout",
     "output_type": "stream",
     "text": [
      "# elements: 32\n",
      "point4d: 1.0 2.0 3.0 4.0\n",
      "point4d: 5.0 6.0 7.0 4.0\n"
     ]
    }
   ],
   "source": [
    "# how would a 4d point be represented (x, y, z, m) z = height, m = measure\n",
    "\n",
    "alias CoordSeq = CoordinateSequence[DType.float32, DimList(8, 4)]\n",
    "let coords = CoordSeq()\n",
    "coords.data.simd_store(0, SIMD[DType.float32, 16](1,2,3,4,5,6,7,8,9,10,11,12,13,14,15,16))\n",
    "print(\"# elements:\", coords.buffer.num_elements())\n",
    "\n",
    "# points represented in the coordinatee sequence as adjacent pairs:\n",
    "print(\"point4d:\", coords.buffer[0, 0], coords.buffer[0, 1], coords.buffer[0, 2], coords.buffer[0, 3])\n",
    "print(\"point4d:\", coords.buffer[1, 0], coords.buffer[1, 1], coords.buffer[1, 2], coords.buffer[0, 3])\n"
   ]
  },
  {
   "cell_type": "code",
   "execution_count": null,
   "metadata": {},
   "outputs": [],
   "source": []
  }
 ],
 "metadata": {
  "kernelspec": {
   "display_name": "Mojo",
   "language": "mojo",
   "name": "mojo-jupyter-kernel"
  },
  "language_info": {
   "codemirror_mode": {
    "name": "mojo"
   },
   "file_extension": ".mojo",
   "mimetype": "text/x-mojo",
   "name": "mojo"
  },
  "orig_nbformat": 4
 },
 "nbformat": 4,
 "nbformat_minor": 2
}
